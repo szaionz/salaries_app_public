{
 "cells": [
  {
   "cell_type": "code",
   "execution_count": 13,
   "metadata": {},
   "outputs": [],
   "source": [
    "import os\n",
    "\n",
    "os.environ[\"DJANGO_ALLOW_ASYNC_UNSAFE\"] = \"true\"\n",
    "  # A script that's needed to setup django if it's not already running on a server.\n",
    "# Without this, you won't be able to import django modules\n",
    "import sys, os, django\n",
    "\n",
    "# Find the project base directory\n",
    "BASE_DIR = os.path.dirname(\".\")\n",
    "\n",
    "# Add the project base directory to the sys.path\n",
    "# This means the script will look in the base directory for any module imports\n",
    "# Therefore you'll be able to import analysis.models etc\n",
    "sys.path.insert(0, BASE_DIR)\n",
    "\n",
    "# The DJANGO_SETTINGS_MODULE has to be set to allow us to access django imports\n",
    "os.environ.setdefault(\"DJANGO_SETTINGS_MODULE\", \"app.settings\")\n",
    "\n",
    "#  Allow queryset filtering asynchronously when running in a Jupyter notebook\n",
    "os.environ[\"DJANGO_ALLOW_ASYNC_UNSAFE\"] = \"true\"\n",
    "\n",
    "# This is for setting up django\n",
    "django.setup()\n"
   ]
  },
  {
   "cell_type": "code",
   "execution_count": 14,
   "metadata": {},
   "outputs": [],
   "source": [
    "from salaries_app.models import StateSalary"
   ]
  },
  {
   "cell_type": "code",
   "execution_count": 15,
   "metadata": {},
   "outputs": [],
   "source": [
    "ss=StateSalary.objects.filter(state=\"Wyoming\", position=\"Data Scientist\")[0]"
   ]
  },
  {
   "cell_type": "code",
   "execution_count": 16,
   "metadata": {},
   "outputs": [],
   "source": [
    "import matplotlib.pyplot as plt\n",
    "import numpy as np\n",
    "x=np.arange(0, 50, 1)\n",
    "y=[ss.get_expected_salary(x) for x in x]\n",
    "plt.figure(figsize=(16, 9))\n",
    "plt.plot(x, y)\n",
    "plt.title(\"Expected Salary for Data Scientist in Wyoming\")\n",
    "plt.axhline(y=ss.get_expected_salary(0), color='r', linestyle='--', label=\"Min Salary (talent.com)\")\n",
    "plt.axhline(y=ss.max_state_salary, color='g', linestyle='--', label=\"Max Salary (talent.com)\")\n",
    "plt.xlabel(\"Years of Experience\")\n",
    "plt.ylabel(\"Salary ($)\")\n",
    "plt.legend()\n",
    "plt.savefig(\"salary-wyoming.png\")\n",
    "\n"
   ]
  }
 ],
 "metadata": {
  "kernelspec": {
   "display_name": "env",
   "language": "python",
   "name": "python3"
  },
  "language_info": {
   "codemirror_mode": {
    "name": "ipython",
    "version": 3
   },
   "file_extension": ".py",
   "mimetype": "text/x-python",
   "name": "python",
   "nbconvert_exporter": "python",
   "pygments_lexer": "ipython3",
   "version": "3.9.2"
  }
 },
 "nbformat": 4,
 "nbformat_minor": 2
}
